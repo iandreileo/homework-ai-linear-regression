{
 "cells": [
  {
   "cell_type": "code",
   "execution_count": 1,
   "metadata": {},
   "outputs": [],
   "source": [
    "import numpy as np\n",
    "import matplotlib.pyplot as plt\n",
    "import math\n",
    "from sklearn import datasets"
   ]
  },
  {
   "cell_type": "code",
   "execution_count": 2,
   "metadata": {},
   "outputs": [],
   "source": [
    "DATASET_TYPE = \"simple\" # simple, complex"
   ]
  },
  {
   "cell_type": "code",
   "execution_count": 3,
   "metadata": {},
   "outputs": [],
   "source": [
    "def generate_examples(dataset_type = \"simple\", n_samples = 100, n_features = 1, noise = 20):\n",
    "    if dataset_type == \"simple\":\n",
    "        X, y = datasets.make_regression(n_samples=n_samples, n_features=n_features, n_informative=1, noise=noise, random_state=37)\n",
    "        fig = plt.figure(figsize=(4, 4))\n",
    "        plt.xlabel(\"x (feature)\")\n",
    "        plt.ylabel(\"y (output)\")\n",
    "        plt.title(\"Synthetic data set\")\n",
    "        plt.scatter(X, y)\n",
    "        plt.show()\n",
    "        return X, y\n",
    "    \n",
    "    elif dataset_type == \"complex\":\n",
    "        n_samples = 300\n",
    "        x = np.linspace(-10, 10, n_samples) # coordinates\n",
    "        noise_sample = np.random.normal(0,0.5,n_samples)\n",
    "        sine_wave = x + np.sin(4*x) + noise_sample\n",
    "        plt.plot(x, sine_wave, 'o')\n",
    "        plt.show()\n",
    "        return x, sine_wave\n",
    "    else:\n",
    "        raise ValueError(\"Unknown dataset type: \" + dataset_type)"
   ]
  },
  {
   "cell_type": "code",
   "execution_count": 4,
   "metadata": {},
   "outputs": [],
   "source": [
    "class LinearRegression(object):\n",
    "    \"\"\"\n",
    "    Modelul de Regresie Liniara\n",
    "    y = X @ w \n",
    "        - valoarea prezisă de model\n",
    "    t ~ N(t|X @ w, var) \n",
    "        - valorile de antrenare (target) sunt fac parte dintr-o distributie normala in jurul mean-ului X@w, \n",
    "          la care se adauga zgomot dat de varianta `var`\n",
    "    \"\"\"\n",
    "\n",
    "    def fit(self, X, t):\n",
    "        \"\"\"\n",
    "        Antrenarea modelului in sensul celor mai mici patrate (least squares fitting)\n",
    "        Parameterii\n",
    "        ----------\n",
    "        X : (N, D) np.ndarray\n",
    "            variabilele de intrare\n",
    "        t : (N,) np.ndarray\n",
    "            variabilele tinta (target / ground truth)\n",
    "        \"\"\"\n",
    "        # TODO codul vostru aici: calculati vectorul de ponderi w\n",
    "        # print(X.shape)\n",
    "        N, D = X.shape\n",
    "        \n",
    "        # ar trebui facut cu np.dot sau cu @\n",
    "        self.w = np.linalg.pinv(X) @ t\n",
    "        # print(self.w)\n",
    "        # end \n",
    "        \n",
    "        self.var = np.mean(np.square(X @ self.w - t))\n",
    "\n",
    "    def predict(self, X, return_std=False):\n",
    "        \"\"\"\n",
    "        Intoarce valoari prezise de model pentru sample-uri X\n",
    "        Parametrii\n",
    "        ----------\n",
    "        X : (N, D) np.ndarray\n",
    "            sample-uri de valori D-dimensionale pentru care se doreste predictia valorii conform modelului\n",
    "        return_std : bool, optional\n",
    "            intoarce deviatia standard a fiecarei valori prezice, daca e setat pe True\n",
    "        \n",
    "        Intoarce\n",
    "        -------\n",
    "        y : (N,) np.ndarray\n",
    "            vector de valori prezise\n",
    "        y_std : (N,) np.ndarray\n",
    "            deviatia standard a fiecarei valori prezise\n",
    "        \"\"\"\n",
    "        # TODO codul vostru aici: calculati valoarea prezisa de modelul vostru\n",
    "        N, D = X.shape\n",
    "        y = np.zeros(N)\n",
    "\n",
    "        y = X @ self.w\n",
    "        # end codul vostru aici\n",
    "        \n",
    "        if return_std:\n",
    "            # TODO codul vostru aici: intoarceti un vector de aceeasi dimensiune cu y, care \n",
    "            # are in fiecare pozitie o valoare egala cu deviatia standard a modelului antrenat (i.e. sqrt(var))\n",
    "            y_std = np.ones_like(y) * math.sqrt(self.var)\n",
    "\n",
    "            # aplic sqrt(var) pe toti y\n",
    "            return y, y_std\n",
    "        return y"
   ]
  },
  {
   "cell_type": "code",
   "execution_count": null,
   "metadata": {},
   "outputs": [],
   "source": [
    "# Functia de eroare conform PDF\n",
    "def mean_squared_error(y, t):\n",
    "    return np.mean((y - t) * (y- t))"
   ]
  }
 ],
 "metadata": {
  "kernelspec": {
   "display_name": "Python 3",
   "language": "python",
   "name": "python3"
  },
  "language_info": {
   "codemirror_mode": {
    "name": "ipython",
    "version": 3
   },
   "file_extension": ".py",
   "mimetype": "text/x-python",
   "name": "python",
   "nbconvert_exporter": "python",
   "pygments_lexer": "ipython3",
   "version": "3.10.9"
  },
  "orig_nbformat": 4,
  "vscode": {
   "interpreter": {
    "hash": "b0fa6594d8f4cbf19f97940f81e996739fb7646882a419484c72d19e05852a7e"
   }
  }
 },
 "nbformat": 4,
 "nbformat_minor": 2
}
