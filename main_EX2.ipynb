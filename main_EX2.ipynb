{
 "cells": [
  {
   "cell_type": "code",
   "execution_count": null,
   "metadata": {},
   "outputs": [],
   "source": [
    "import numpy as np\n",
    "import matplotlib.pyplot as plt\n",
    "import math\n",
    "from sklearn import datasets\n",
    "from sklearn.model_selection import train_test_split"
   ]
  },
  {
   "cell_type": "code",
   "execution_count": null,
   "metadata": {},
   "outputs": [],
   "source": [
    "DATASET_TYPE = \"simple\" # simple, complex\n",
    "N_SAMPLES = 300\n",
    "M = 1\n",
    "EPOCHS = 5"
   ]
  },
  {
   "cell_type": "code",
   "execution_count": null,
   "metadata": {},
   "outputs": [],
   "source": [
    "def generate_examples(dataset_type = \"simple\", n_samples = N_SAMPLES, n_features = 1, noise = 20):\n",
    "    if dataset_type == \"simple\":\n",
    "        X, t = datasets.make_regression(n_samples=n_samples, n_features=n_features, n_informative=1, noise=noise, random_state=37)\n",
    "        return X, t\n",
    "    \n",
    "    elif dataset_type == \"complex\":\n",
    "        n_samples = 300\n",
    "        x = np.linspace(-10, 10, n_samples) # coordinates\n",
    "        noise_sample = np.random.normal(0,0.5,n_samples)\n",
    "        sine_wave = x + np.sin(4*x) + noise_sample\n",
    "        return x, sine_wave\n",
    "    else:\n",
    "        raise ValueError(\"Unknown dataset type: \" + dataset_type)"
   ]
  },
  {
   "cell_type": "code",
   "execution_count": null,
   "metadata": {},
   "outputs": [],
   "source": [
    "class RidgeRegression:\n",
    "    def __init__(self, alpha):\n",
    "        self.alpha = alpha\n",
    "        \n",
    "    def fit(self, X, y):\n",
    "        n, m = X.shape\n",
    "        X = np.hstack((np.ones((n, 1)), X))\n",
    "        self.w = np.linalg.inv(X.T @ X + self.alpha*np.eye(m+1)) @ X.T @ y\n",
    "\n",
    "    def predict(self, X):\n",
    "        n, m = X.shape\n",
    "        X = np.hstack((np.ones((n, 1)), X))\n",
    "        return X @ self.w"
   ]
  },
  {
   "cell_type": "code",
   "execution_count": null,
   "metadata": {},
   "outputs": [],
   "source": [
    "def k_fold_validation(model, X, y, k=5):\n",
    "    n = len(X)\n",
    "    fold_size = int(n/k)\n",
    "    scores = []\n",
    "    for i in range(k):\n",
    "        start = i * fold_size\n",
    "        end = (i+1) * fold_size\n",
    "        X_test, y_test = X[start:end], y[start:end]\n",
    "        X_train = np.concatenate([X[:start], X[end:]])\n",
    "        y_train = np.concatenate([y[:start], y[end:]])\n",
    "        model.fit(X_train, y_train)\n",
    "        y_pred = model.predict(X_test)\n",
    "        scores.append(model.score(X_test, y_test))\n",
    "    return scores"
   ]
  }
 ],
 "metadata": {
  "kernelspec": {
   "display_name": "Python 3",
   "language": "python",
   "name": "python3"
  },
  "language_info": {
   "name": "python",
   "version": "3.10.9 (main, Dec 15 2022, 17:11:09) [Clang 14.0.0 (clang-1400.0.29.202)]"
  },
  "orig_nbformat": 4,
  "vscode": {
   "interpreter": {
    "hash": "b0fa6594d8f4cbf19f97940f81e996739fb7646882a419484c72d19e05852a7e"
   }
  }
 },
 "nbformat": 4,
 "nbformat_minor": 2
}
